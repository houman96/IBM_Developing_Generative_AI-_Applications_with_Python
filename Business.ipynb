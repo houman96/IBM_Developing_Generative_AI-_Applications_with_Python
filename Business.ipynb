{
 "cells": [
  {
   "cell_type": "code",
   "execution_count": 11,
   "id": "303fda88-a63a-4ee0-aba2-f0326f464c33",
   "metadata": {},
   "outputs": [],
   "source": [
    "import requests\n",
    "from PIL import Image\n",
    "from io import BytesIO\n",
    "from bs4 import BeautifulSoup\n",
    "from transformers import AutoProcessor, BlipForConditionalGeneration\n",
    "\n",
    "# URL of the page to scrape\n",
    "url = \"https://en.wikipedia.org/wiki/IBM\"\n",
    "\n",
    "# Download the page\n",
    "response = requests.get(url)\n",
    "\n",
    "# Parse the page with BeautifulSoup\n",
    "soup = BeautifulSoup(response.text, 'html.parser')"
   ]
  },
  {
   "cell_type": "code",
   "execution_count": 12,
   "id": "5f0515ea-149f-4a25-9166-aecdf4940fc1",
   "metadata": {},
   "outputs": [],
   "source": [
    "# Find all img elements\n",
    "img_elements = soup.find_all('img')\n",
    "\n",
    "# Iterate over each img element and extract the attributes\n",
    "for img_element in img_elements:\n",
    "    # Extract the 'src' attribute (image source URL)\n",
    "    img_src = img_element.get('src')\n",
    "    \n",
    "    # Extract the 'alt' attribute (alternative text) if present\n",
    "    img_alt = img_element.get('alt', 'No alt text provided')  # Default to a message if 'alt' is missing\n",
    "    \n",
    "    # You can also extract other attributes if needed (e.g., title, width, height)\n",
    "    img_title = img_element.get('title', 'No title provided')\n",
    "    "
   ]
  },
  {
   "cell_type": "code",
   "execution_count": 13,
   "id": "ef96c5bc-f281-4932-b3c0-80f21255e9eb",
   "metadata": {},
   "outputs": [
    {
     "name": "stderr",
     "output_type": "stream",
     "text": [
      "C:\\Users\\admin\\anaconda3\\envs\\blip\\Lib\\site-packages\\huggingface_hub\\file_download.py:1150: FutureWarning: `resume_download` is deprecated and will be removed in version 1.0.0. Downloads always resume when possible. If you want to force a new download, use `force_download=True`.\n",
      "  warnings.warn(\n"
     ]
    }
   ],
   "source": [
    "# Load the pretrained processor and model\n",
    "processor = AutoProcessor.from_pretrained(\"Salesforce/blip-image-captioning-base\")\n",
    "model = BlipForConditionalGeneration.from_pretrained(\"Salesforce/blip-image-captioning-base\")\n",
    "\n",
    "# URL of the page to scrape\n",
    "url = \"https://en.wikipedia.org/wiki/IBM\"\n",
    "\n",
    "# Download the page\n",
    "response = requests.get(url)\n",
    "# Parse the page with BeautifulSoup\n",
    "soup = BeautifulSoup(response.text, 'html.parser')\n",
    "\n",
    "# Find all img elements\n",
    "img_elements = soup.find_all('img')\n",
    "\n",
    "# Open a file to write the captions\n",
    "with open(\"captions.txt\", \"w\") as caption_file:\n",
    "    # Iterate over each img element\n",
    "    for img_element in img_elements:\n",
    "        img_url = img_element.get('src')\n",
    "\n",
    "        # Skip if the image is an SVG or too small (likely an icon)\n",
    "        if 'svg' in img_url or '1x1' in img_url:\n",
    "            continue\n",
    "\n",
    "        # Correct the URL if it's malformed\n",
    "        if img_url.startswith('//'):\n",
    "            img_url = 'https:' + img_url\n",
    "        elif not img_url.startswith('http://') and not img_url.startswith('https://'):\n",
    "            continue  # Skip URLs that don't start with http:// or https://\n",
    "\n",
    "        try:\n",
    "            # Download the image\n",
    "            response = requests.get(img_url)\n",
    "            # Convert the image data to a PIL Image\n",
    "            raw_image = Image.open(BytesIO(response.content))\n",
    "            if raw_image.size[0] * raw_image.size[1] < 400:  # Skip very small images\n",
    "                continue\n",
    "\n",
    "            raw_image = raw_image.convert('RGB')\n",
    "\n",
    "            # Process the image\n",
    "            inputs = processor(raw_image, return_tensors=\"pt\")\n",
    "            # Generate a caption for the image\n",
    "            out = model.generate(**inputs, max_new_tokens=50)\n",
    "            # Decode the generated tokens to text\n",
    "            caption = processor.decode(out[0], skip_special_tokens=True)\n",
    "\n",
    "            # Write the caption to the file, prepended by the image URL\n",
    "            caption_file.write(f\"{img_url}: {caption}\\n\")\n",
    "        except Exception as e:\n",
    "            print(f\"Error processing image {img_url}: {e}\")\n",
    "            continue"
   ]
  },
  {
   "cell_type": "code",
   "execution_count": null,
   "id": "35c857c7-4422-4956-a79a-2deb5a5042ba",
   "metadata": {},
   "outputs": [],
   "source": []
  }
 ],
 "metadata": {
  "kernelspec": {
   "display_name": "Python 3 (ipykernel)",
   "language": "python",
   "name": "python3"
  },
  "language_info": {
   "codemirror_mode": {
    "name": "ipython",
    "version": 3
   },
   "file_extension": ".py",
   "mimetype": "text/x-python",
   "name": "python",
   "nbconvert_exporter": "python",
   "pygments_lexer": "ipython3",
   "version": "3.12.5"
  }
 },
 "nbformat": 4,
 "nbformat_minor": 5
}
